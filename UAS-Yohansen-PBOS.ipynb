{
 "cells": [
  {
   "cell_type": "code",
   "execution_count": 2,
   "id": "7cedab20",
   "metadata": {},
   "outputs": [
    {
     "name": "stdout",
     "output_type": "stream",
     "text": [
      "Panjang = 3\n",
      "Lebar = 4\n",
      "________________________________\n",
      "hasil dari perhitungan adalah :\n",
      "Keliling :  14\n",
      "Luas     :  12\n",
      "________________________________\n"
     ]
    }
   ],
   "source": [
    "pjg = int(input(\"Panjang = \"))\n",
    "lbr = int(input(\"Lebar = \"))\n",
    "\n",
    "def print1(pjg,lebar):\n",
    "    keliling = (2*pjg) + (2*lbr)\n",
    "    luas = (pjg * lbr)\n",
    "    print(\"________________________________\")\n",
    "    print(\"hasil dari perhitungan adalah :\")\n",
    "    print(\"Keliling : \",keliling)\n",
    "    print(\"Luas     : \",luas)\n",
    "    print(\"________________________________\")\n",
    "print1(pjg,lbr)"
   ]
  },
  {
   "cell_type": "code",
   "execution_count": 31,
   "id": "2c093e23",
   "metadata": {},
   "outputs": [
    {
     "name": "stdout",
     "output_type": "stream",
     "text": [
      "===Isikanlah Data Diri Anda : ===\n",
      "Nama   : HHH\n",
      "Alamat : YD\n",
      "NIM    : 6466\n",
      "Umur    : 53\n",
      "----------------------------------------------\n",
      "\n",
      "Berikut adalah isi data diri anda: \n",
      "Nama   :  HHH\n",
      "Alamat :  YD\n",
      "NIM    :  6466\n",
      "Umur   :  53\n",
      "----------------------------------------------\n"
     ]
    }
   ],
   "source": [
    "class Datadiri():\n",
    "    def __init__(self,nama,alamat,nim,umur):\n",
    "        \n",
    "        print(\"===Isikanlah Data Diri Anda : ===\")\n",
    "        \n",
    "    def input(self):\n",
    "        self.nama = input(\"Nama   : \")\n",
    "        self.alamat = input(\"Alamat : \")\n",
    "        self.nim = input(\"NIM    : \")\n",
    "        self.umur = input(\"Umur    : \")\n",
    "        print (\"----------------------------------------------\")     \n",
    "class datadiri(Datadiri):\n",
    "    def cetak(self):\n",
    "        print (\"\\nBerikut adalah isi data diri anda: \")\n",
    "        print (\"Nama   : \", self.nama)\n",
    "        print (\"Alamat : \", self.alamat)\n",
    "        print (\"NIM    : \", self.nim)\n",
    "        print (\"Umur   : \",self.umur)\n",
    "        print (\"----------------------------------------------\")  \n",
    "data = datadiri (\"nama\",\"alamat\",\"nim\",\"umur\")\n",
    "data.input()\n",
    "data.cetak()"
   ]
  },
  {
   "cell_type": "code",
   "execution_count": 42,
   "id": "85602432",
   "metadata": {},
   "outputs": [
    {
     "name": "stdout",
     "output_type": "stream",
     "text": [
      "1. +\n",
      "2. -\n",
      "3. *\n",
      "4. :\n",
      "5. ExiT\n",
      "----------------------------------\n",
      "Pilih operasi :1\n",
      "\n",
      "Masukkan Angka Pertama :2\n",
      "Masukkan Angka Kedua   :3\n",
      "2 + 3 = 5\n",
      "----------------------------------\n",
      "1. +\n",
      "2. -\n",
      "3. *\n",
      "4. :\n",
      "5. ExiT\n",
      "----------------------------------\n"
     ]
    },
    {
     "ename": "KeyboardInterrupt",
     "evalue": "Interrupted by user",
     "output_type": "error",
     "traceback": [
      "\u001b[1;31m---------------------------------------------------------------------------\u001b[0m",
      "\u001b[1;31mKeyboardInterrupt\u001b[0m                         Traceback (most recent call last)",
      "\u001b[1;32m<ipython-input-42-993a65fbff3d>\u001b[0m in \u001b[0;36m<module>\u001b[1;34m\u001b[0m\n\u001b[0;32m     19\u001b[0m     \u001b[0mprint\u001b[0m \u001b[1;33m(\u001b[0m\u001b[1;34m\"----------------------------------\"\u001b[0m\u001b[1;33m)\u001b[0m\u001b[1;33m\u001b[0m\u001b[1;33m\u001b[0m\u001b[0m\n\u001b[0;32m     20\u001b[0m \u001b[1;33m\u001b[0m\u001b[0m\n\u001b[1;32m---> 21\u001b[1;33m     \u001b[0mop\u001b[0m \u001b[1;33m=\u001b[0m \u001b[0mint\u001b[0m\u001b[1;33m(\u001b[0m\u001b[0minput\u001b[0m\u001b[1;33m(\u001b[0m\u001b[1;34m\"Pilih operasi :\"\u001b[0m\u001b[1;33m)\u001b[0m\u001b[1;33m)\u001b[0m\u001b[1;33m\u001b[0m\u001b[1;33m\u001b[0m\u001b[0m\n\u001b[0m\u001b[0;32m     22\u001b[0m \u001b[1;33m\u001b[0m\u001b[0m\n\u001b[0;32m     23\u001b[0m     \u001b[1;32mif\u001b[0m \u001b[0mop\u001b[0m \u001b[1;32min\u001b[0m \u001b[1;33m(\u001b[0m\u001b[1;36m1\u001b[0m\u001b[1;33m,\u001b[0m \u001b[1;36m2\u001b[0m\u001b[1;33m,\u001b[0m \u001b[1;36m3\u001b[0m\u001b[1;33m,\u001b[0m \u001b[1;36m4\u001b[0m\u001b[1;33m,\u001b[0m \u001b[1;36m5\u001b[0m\u001b[1;33m)\u001b[0m\u001b[1;33m:\u001b[0m\u001b[1;33m\u001b[0m\u001b[1;33m\u001b[0m\u001b[0m\n",
      "\u001b[1;32m~\\anaconda3\\lib\\site-packages\\ipykernel\\kernelbase.py\u001b[0m in \u001b[0;36mraw_input\u001b[1;34m(self, prompt)\u001b[0m\n\u001b[0;32m    858\u001b[0m                 \u001b[1;34m\"raw_input was called, but this frontend does not support input requests.\"\u001b[0m\u001b[1;33m\u001b[0m\u001b[1;33m\u001b[0m\u001b[0m\n\u001b[0;32m    859\u001b[0m             )\n\u001b[1;32m--> 860\u001b[1;33m         return self._input_request(str(prompt),\n\u001b[0m\u001b[0;32m    861\u001b[0m             \u001b[0mself\u001b[0m\u001b[1;33m.\u001b[0m\u001b[0m_parent_ident\u001b[0m\u001b[1;33m,\u001b[0m\u001b[1;33m\u001b[0m\u001b[1;33m\u001b[0m\u001b[0m\n\u001b[0;32m    862\u001b[0m             \u001b[0mself\u001b[0m\u001b[1;33m.\u001b[0m\u001b[0m_parent_header\u001b[0m\u001b[1;33m,\u001b[0m\u001b[1;33m\u001b[0m\u001b[1;33m\u001b[0m\u001b[0m\n",
      "\u001b[1;32m~\\anaconda3\\lib\\site-packages\\ipykernel\\kernelbase.py\u001b[0m in \u001b[0;36m_input_request\u001b[1;34m(self, prompt, ident, parent, password)\u001b[0m\n\u001b[0;32m    902\u001b[0m             \u001b[1;32mexcept\u001b[0m \u001b[0mKeyboardInterrupt\u001b[0m\u001b[1;33m:\u001b[0m\u001b[1;33m\u001b[0m\u001b[1;33m\u001b[0m\u001b[0m\n\u001b[0;32m    903\u001b[0m                 \u001b[1;31m# re-raise KeyboardInterrupt, to truncate traceback\u001b[0m\u001b[1;33m\u001b[0m\u001b[1;33m\u001b[0m\u001b[1;33m\u001b[0m\u001b[0m\n\u001b[1;32m--> 904\u001b[1;33m                 \u001b[1;32mraise\u001b[0m \u001b[0mKeyboardInterrupt\u001b[0m\u001b[1;33m(\u001b[0m\u001b[1;34m\"Interrupted by user\"\u001b[0m\u001b[1;33m)\u001b[0m \u001b[1;32mfrom\u001b[0m \u001b[1;32mNone\u001b[0m\u001b[1;33m\u001b[0m\u001b[1;33m\u001b[0m\u001b[0m\n\u001b[0m\u001b[0;32m    905\u001b[0m             \u001b[1;32mexcept\u001b[0m \u001b[0mException\u001b[0m \u001b[1;32mas\u001b[0m \u001b[0me\u001b[0m\u001b[1;33m:\u001b[0m\u001b[1;33m\u001b[0m\u001b[1;33m\u001b[0m\u001b[0m\n\u001b[0;32m    906\u001b[0m                 \u001b[0mself\u001b[0m\u001b[1;33m.\u001b[0m\u001b[0mlog\u001b[0m\u001b[1;33m.\u001b[0m\u001b[0mwarning\u001b[0m\u001b[1;33m(\u001b[0m\u001b[1;34m\"Invalid Message:\"\u001b[0m\u001b[1;33m,\u001b[0m \u001b[0mexc_info\u001b[0m\u001b[1;33m=\u001b[0m\u001b[1;32mTrue\u001b[0m\u001b[1;33m)\u001b[0m\u001b[1;33m\u001b[0m\u001b[1;33m\u001b[0m\u001b[0m\n",
      "\u001b[1;31mKeyboardInterrupt\u001b[0m: Interrupted by user"
     ]
    }
   ],
   "source": [
    "class calculator:\n",
    "    def tambah(self, a, b):\n",
    "        return a+b\n",
    "    def kurang(self, a, b):\n",
    "        return a-b\n",
    "    def kali(self, a, b):\n",
    "        return a*b\n",
    "    def bagi(self, a, b):\n",
    "        return a/b\n",
    "    \n",
    "menghitung = calculator()\n",
    "\n",
    "while True:\n",
    "    print(\"1. +\")\n",
    "    print(\"2. -\")\n",
    "    print(\"3. *\")\n",
    "    print(\"4. :\")\n",
    "    print(\"5. ExiT\")\n",
    "    print (\"----------------------------------\")\n",
    "    \n",
    "    op = int(input(\"Pilih operasi :\"))\n",
    "    \n",
    "    if op in (1, 2, 3, 4, 5):\n",
    "        if(op==5):\n",
    "            break\n",
    "            \n",
    "        a = int(input(\"\\nMasukkan Angka Pertama :\"))\n",
    "        b = int(input(\"Masukkan Angka Kedua   :\"))\n",
    "        \n",
    "        if(op==1):\n",
    "            print(a, \"+\", b, \"=\", menghitung.tambah(a,b))\n",
    "            \n",
    "        elif(op==2):\n",
    "            print(a, \"-\", b, \"=\", menghitung.kurang(a,b))\n",
    "            \n",
    "        elif(op==3):\n",
    "            print(a, \"x\", b, \"=\", menghitung.kali(a,b))\n",
    "            \n",
    "        elif(op==4):\n",
    "            print(a, \":\", b, \"=\", menghitung.bagi(a,b))\n",
    "        print (\"----------------------------------\")\n",
    "    else:\n",
    "        print(\"Invalid Input\")\n",
    "         "
   ]
  },
  {
   "cell_type": "code",
   "execution_count": null,
   "id": "6ca84465",
   "metadata": {},
   "outputs": [],
   "source": []
  },
  {
   "cell_type": "code",
   "execution_count": null,
   "id": "5d672639",
   "metadata": {},
   "outputs": [],
   "source": []
  }
 ],
 "metadata": {
  "kernelspec": {
   "display_name": "Python 3",
   "language": "python",
   "name": "python3"
  },
  "language_info": {
   "codemirror_mode": {
    "name": "ipython",
    "version": 3
   },
   "file_extension": ".py",
   "mimetype": "text/x-python",
   "name": "python",
   "nbconvert_exporter": "python",
   "pygments_lexer": "ipython3",
   "version": "3.8.8"
  }
 },
 "nbformat": 4,
 "nbformat_minor": 5
}
